{
 "cells": [
  {
   "cell_type": "code",
   "execution_count": 2,
   "metadata": {},
   "outputs": [
    {
     "name": "stdout",
     "output_type": "stream",
     "text": [
      "{'score': 0.001455879211425759,\n",
      " 'sentence_scores': [{'score': 0.0,\n",
      "                      'sentence': 'This is sample text meaw meaw'}],\n",
      " 'text': 'This is sample text meaw meaw',\n",
      " 'token_probs': [0.0013885498046875,\n",
      "                 0.001325070858001709,\n",
      "                 0.001367032527923584,\n",
      "                 0.001367032527923584,\n",
      "                 0.0014104247093200684,\n",
      "                 0.0015978217124938965,\n",
      "                 0.0015012025833129883,\n",
      "                 0.0015978217124938965],\n",
      " 'tokens': ['This', ' is', ' sample', ' text', ' me', 'aw', ' me', 'aw']}\n"
     ]
    }
   ],
   "source": [
    "import requests\n",
    "from pprint import pprint\n",
    "\n",
    "response = requests.post(\n",
    "    \"https://api.sapling.ai/api/v1/aidetect\",\n",
    "    json={\n",
    "        \"key\": \"RHMMYVZX39KKSOJP5VZTCRUQLCB7LFFX\",\n",
    "        \"text\": \"This is sample text meaw meaw\"\n",
    "    }\n",
    ")\n",
    "\n",
    "pprint(response.json())\n"
   ]
  },
  {
   "cell_type": "code",
   "execution_count": null,
   "metadata": {},
   "outputs": [],
   "source": []
  }
 ],
 "metadata": {
  "kernelspec": {
   "display_name": "demo",
   "language": "python",
   "name": "python3"
  },
  "language_info": {
   "codemirror_mode": {
    "name": "ipython",
    "version": 3
   },
   "file_extension": ".py",
   "mimetype": "text/x-python",
   "name": "python",
   "nbconvert_exporter": "python",
   "pygments_lexer": "ipython3",
   "version": "3.10.13"
  }
 },
 "nbformat": 4,
 "nbformat_minor": 2
}
