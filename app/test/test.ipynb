{
 "cells": [
  {
   "cell_type": "code",
   "execution_count": 1,
   "metadata": {},
   "outputs": [
    {
     "name": "stdout",
     "output_type": "stream",
     "text": [
      "{'score': 0.001455879211425759,\n",
      " 'sentence_scores': [{'score': 0.0,\n",
      "                      'sentence': 'This is sample text meaw meaw'}],\n",
      " 'text': 'This is sample text meaw meaw',\n",
      " 'token_probs': [0.0013885498046875,\n",
      "                 0.001325070858001709,\n",
      "                 0.001367032527923584,\n",
      "                 0.001367032527923584,\n",
      "                 0.0014104247093200684,\n",
      "                 0.0015978217124938965,\n",
      "                 0.0015012025833129883,\n",
      "                 0.0015978217124938965],\n",
      " 'tokens': ['This', ' is', ' sample', ' text', ' me', 'aw', ' me', 'aw']}\n"
     ]
    }
   ],
   "source": [
    "import requests\n",
    "from pprint import pprint\n",
    "\n",
    "response = requests.post(\n",
    "    \"https://api.sapling.ai/api/v1/aidetect\",\n",
    "    json={\n",
    "        \"key\": \"RHMMYVZX39KKSOJP5VZTCRUQLCB7LFFX\",\n",
    "        \"text\": \"This is sample text meaw meaw\"\n",
    "    }\n",
    ")\n",
    "\n",
    "pprint(response.json())\n"
   ]
  },
  {
   "cell_type": "code",
   "execution_count": 2,
   "metadata": {},
   "outputs": [],
   "source": [
    "def check(text):\n",
    "    response = requests.post(\n",
    "        \"https://api.sapling.ai/api/v1/aidetect\",\n",
    "        json={\n",
    "            \"key\": \"RHMMYVZX39KKSOJP5VZTCRUQLCB7LFFX\",\n",
    "            \"text\": text\n",
    "        }\n",
    "    )\n",
    "\n",
    "    return response.json()['score']"
   ]
  },
  {
   "cell_type": "code",
   "execution_count": 3,
   "metadata": {},
   "outputs": [
    {
     "data": {
      "text/plain": [
       "0.9999988789854031"
      ]
     },
     "execution_count": 3,
     "metadata": {},
     "output_type": "execute_result"
    }
   ],
   "source": [
    "check('In contemporary research, fractal geometry plays an essential role in fields ranging from physics and computer graphics to finance and medicine. For instance, fractal-based algorithms improve image compression, texture synthesis, and pattern recognition. In medicine, fractal analysis assists in characterizing irregular heartbeats or tumor growth patterns. The interplay between fractal geometry and other branches of mathematics, such as measure theory, probability, and number theory, continues to be an active and fruitful area of study')"
   ]
  },
  {
   "cell_type": "code",
   "execution_count": 4,
   "metadata": {},
   "outputs": [],
   "source": [
    "text = \"\"\"Dynamical systems theory is important part of mathematics that focus on study how systems change over time with fixed rule. These systems can be describe by differential equations, difference equations, or more abstract mappings. They capture how states evolve in different scientific and engineering situations. The theory give a strong framework to understand complex things like stability, chaos, and bifurcations which happen naturally in physical, biological, and social systems.\n",
    "\n",
    "In basic idea, a dynamical system have a state space and a rule that explain how points in this space move or change with time. Continuous-time dynamical systems usually use ordinary differential equations (ODEs) for modeling, while discrete-time systems use iterated maps or difference equations. The path of the system, which is the line traced by the state as time go on, holds important information about how the system behave in long term and its stability.\"\"\""
   ]
  },
  {
   "cell_type": "code",
   "execution_count": 5,
   "metadata": {},
   "outputs": [
    {
     "data": {
      "text/plain": [
       "0.0008568135115618603"
      ]
     },
     "execution_count": 5,
     "metadata": {},
     "output_type": "execute_result"
    }
   ],
   "source": [
    "check(text)"
   ]
  },
  {
   "cell_type": "code",
   "execution_count": 13,
   "metadata": {},
   "outputs": [
    {
     "data": {
      "text/plain": [
       "<module 'app.chains.detectors' from '/Users/ajkenkazin/ALL-PROJECTS/AI_Projects/AI-text-humanizer/app/chains/detectors.py'>"
      ]
     },
     "execution_count": 13,
     "metadata": {},
     "output_type": "execute_result"
    }
   ],
   "source": [
    "import sys\n",
    "import os\n",
    "sys.path.append(os.path.abspath(\"../..\"))\n",
    "\n",
    "import app.chains.detectors as detectors\n",
    "from importlib import reload\n",
    "\n",
    "reload(detectors)"
   ]
  },
  {
   "cell_type": "code",
   "execution_count": 14,
   "metadata": {},
   "outputs": [
    {
     "data": {
      "text/plain": [
       "'0.1% AI generated'"
      ]
     },
     "execution_count": 14,
     "metadata": {},
     "output_type": "execute_result"
    }
   ],
   "source": [
    "detectors.detect_ai(text)"
   ]
  },
  {
   "cell_type": "code",
   "execution_count": null,
   "metadata": {},
   "outputs": [],
   "source": []
  },
  {
   "cell_type": "code",
   "execution_count": null,
   "metadata": {},
   "outputs": [],
   "source": []
  },
  {
   "cell_type": "code",
   "execution_count": null,
   "metadata": {},
   "outputs": [],
   "source": []
  },
  {
   "cell_type": "code",
   "execution_count": null,
   "metadata": {},
   "outputs": [],
   "source": []
  }
 ],
 "metadata": {
  "kernelspec": {
   "display_name": "demo",
   "language": "python",
   "name": "python3"
  },
  "language_info": {
   "codemirror_mode": {
    "name": "ipython",
    "version": 3
   },
   "file_extension": ".py",
   "mimetype": "text/x-python",
   "name": "python",
   "nbconvert_exporter": "python",
   "pygments_lexer": "ipython3",
   "version": "3.10.13"
  }
 },
 "nbformat": 4,
 "nbformat_minor": 2
}
