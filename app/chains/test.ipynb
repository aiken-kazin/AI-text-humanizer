{
 "cells": [
  {
   "cell_type": "code",
   "execution_count": 1,
   "metadata": {},
   "outputs": [],
   "source": [
    "from humanizer_chain import humanize_text"
   ]
  },
  {
   "cell_type": "code",
   "execution_count": 2,
   "metadata": {},
   "outputs": [],
   "source": [
    "text=\"\"\"Biology is the scientific study of life and living organisms, encompassing subdisciplines that examine the structure, \n",
    "function, growth, origin, and evolution. Molecular biology focuses on interactions among cellular components such as DNA, RNA,\n",
    " proteins, and other biomolecules. Cellular biology delves into structure and function of cells, units of life. Within cells, \n",
    " organelles like mitochondria, chloroplasts, and the nucleus illustrate specialization for energy production, photosynthesis, \n",
    " and genetic regulation. Processes like mitosis and meiosis are essential for growth, \n",
    "reproduction, and inheritance, while cell signaling enables multicellular coordination.\n",
    "\"\"\""
   ]
  },
  {
   "cell_type": "code",
   "execution_count": 3,
   "metadata": {},
   "outputs": [
    {
     "name": "stdout",
     "output_type": "stream",
     "text": [
      "Biology is all about exploring life and the living world, diving into areas that look at how things are built, how they work, how they grow, where they come from, and how they've changed over time. Molecular biology zooms in on the interactions between the tiny parts of cells like DNA, RNA, proteins, and other important molecules. Then there's cellular biology, which takes a closer look at cells themselves — the building blocks of life. Inside these cells are organelles like mitochondria for energy production, chloroplasts for photosynthesis, and the nucleus for managing genetic information. Processes such as mitosis and meiosis play crucial roles in helping organisms grow, reproduce, and pass on traits to their offspring. And thanks to cell signaling, cells in multicellular organisms can communicate and coordinate with each other effectively.\n"
     ]
    }
   ],
   "source": [
    "humanized_text =  humanize_text(text)\n",
    "print(humanized_text)"
   ]
  },
  {
   "cell_type": "code",
   "execution_count": null,
   "metadata": {},
   "outputs": [],
   "source": []
  },
  {
   "cell_type": "code",
   "execution_count": null,
   "metadata": {},
   "outputs": [],
   "source": []
  }
 ],
 "metadata": {
  "kernelspec": {
   "display_name": "demo",
   "language": "python",
   "name": "python3"
  },
  "language_info": {
   "codemirror_mode": {
    "name": "ipython",
    "version": 3
   },
   "file_extension": ".py",
   "mimetype": "text/x-python",
   "name": "python",
   "nbconvert_exporter": "python",
   "pygments_lexer": "ipython3",
   "version": "3.10.13"
  }
 },
 "nbformat": 4,
 "nbformat_minor": 2
}
